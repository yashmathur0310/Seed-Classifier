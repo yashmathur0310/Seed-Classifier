{
 "cells": [
  {
   "cell_type": "code",
   "execution_count": 1,
   "metadata": {},
   "outputs": [],
   "source": [
    "import tensorflow as tf\n",
    "from tensorflow import keras \n",
    "from keras.preprocessing.image import ImageDataGenerator"
   ]
  },
  {
   "cell_type": "code",
   "execution_count": 2,
   "metadata": {},
   "outputs": [],
   "source": [
    "train_datagen=ImageDataGenerator(rescale=1/255.)\n",
    "test_datagen=ImageDataGenerator(rescale=1/255.)"
   ]
  },
  {
   "cell_type": "code",
   "execution_count": 3,
   "metadata": {},
   "outputs": [],
   "source": [
    "train_dir='train'\n",
    "test_dir='test'"
   ]
  },
  {
   "cell_type": "code",
   "execution_count": 4,
   "metadata": {},
   "outputs": [
    {
     "name": "stdout",
     "output_type": "stream",
     "text": [
      "Found 41 images belonging to 4 classes.\n",
      "Found 19 images belonging to 4 classes.\n"
     ]
    }
   ],
   "source": [
    "train_data=train_datagen.flow_from_directory(train_dir,target_size=(224,224),class_mode='categorical',batch_size=1,shuffle=False)\n",
    "test_data=test_datagen.flow_from_directory(test_dir,target_size=(224,224),class_mode='categorical',batch_size=1,shuffle=False)"
   ]
  },
  {
   "cell_type": "code",
   "execution_count": 70,
   "metadata": {},
   "outputs": [
    {
     "name": "stdout",
     "output_type": "stream",
     "text": [
      "Epoch 1/100\n",
      "41/41 [==============================] - 2s 37ms/step - loss: 2.0552 - accuracy: 0.3171 - val_loss: 1.3425 - val_accuracy: 0.3158\n",
      "Epoch 2/100\n",
      "41/41 [==============================] - 1s 35ms/step - loss: 1.3977 - accuracy: 0.3171 - val_loss: 1.4164 - val_accuracy: 0.3158\n",
      "Epoch 3/100\n",
      "41/41 [==============================] - 1s 35ms/step - loss: 1.1581 - accuracy: 0.5366 - val_loss: 1.2806 - val_accuracy: 0.5263\n",
      "Epoch 4/100\n",
      "41/41 [==============================] - 1s 35ms/step - loss: 1.1407 - accuracy: 0.4146 - val_loss: 1.0403 - val_accuracy: 0.3158\n",
      "Epoch 5/100\n",
      "41/41 [==============================] - 1s 35ms/step - loss: 0.7287 - accuracy: 0.7561 - val_loss: 0.8797 - val_accuracy: 0.3684\n",
      "Epoch 6/100\n",
      "41/41 [==============================] - 1s 35ms/step - loss: 0.5163 - accuracy: 0.8293 - val_loss: 0.9238 - val_accuracy: 0.3158\n",
      "Epoch 7/100\n",
      "41/41 [==============================] - 1s 36ms/step - loss: 0.4926 - accuracy: 0.8049 - val_loss: 1.0120 - val_accuracy: 0.4737\n",
      "Epoch 8/100\n",
      "41/41 [==============================] - 1s 35ms/step - loss: 0.4299 - accuracy: 0.8293 - val_loss: 0.9715 - val_accuracy: 0.4737\n",
      "Epoch 9/100\n",
      "41/41 [==============================] - 2s 37ms/step - loss: 0.3280 - accuracy: 0.8537 - val_loss: 1.0945 - val_accuracy: 0.4211\n",
      "Epoch 10/100\n",
      "41/41 [==============================] - 2s 40ms/step - loss: 0.2750 - accuracy: 0.8780 - val_loss: 1.7317 - val_accuracy: 0.4737\n",
      "Epoch 11/100\n",
      "41/41 [==============================] - 2s 39ms/step - loss: 0.3987 - accuracy: 0.8537 - val_loss: 1.4041 - val_accuracy: 0.4737\n",
      "Epoch 12/100\n",
      "41/41 [==============================] - 1s 36ms/step - loss: 0.3330 - accuracy: 0.8780 - val_loss: 0.9269 - val_accuracy: 0.5263\n",
      "Epoch 13/100\n",
      "41/41 [==============================] - 2s 37ms/step - loss: 0.2310 - accuracy: 0.9268 - val_loss: 1.2006 - val_accuracy: 0.5263\n",
      "Epoch 14/100\n",
      "41/41 [==============================] - 2s 40ms/step - loss: 0.2198 - accuracy: 0.9268 - val_loss: 1.1072 - val_accuracy: 0.5263\n",
      "Epoch 15/100\n",
      "41/41 [==============================] - 2s 36ms/step - loss: 0.2443 - accuracy: 0.9024 - val_loss: 1.2963 - val_accuracy: 0.5263\n",
      "Epoch 16/100\n",
      "41/41 [==============================] - 2s 38ms/step - loss: 0.4154 - accuracy: 0.8293 - val_loss: 1.2600 - val_accuracy: 0.4211\n",
      "Epoch 17/100\n",
      "41/41 [==============================] - 1s 35ms/step - loss: 0.2140 - accuracy: 0.9268 - val_loss: 1.3139 - val_accuracy: 0.5263\n",
      "Epoch 18/100\n",
      "41/41 [==============================] - 1s 36ms/step - loss: 0.2318 - accuracy: 0.9024 - val_loss: 1.6232 - val_accuracy: 0.4737\n",
      "Epoch 19/100\n",
      "41/41 [==============================] - 1s 35ms/step - loss: 0.1086 - accuracy: 0.9512 - val_loss: 1.5149 - val_accuracy: 0.4737\n",
      "Epoch 20/100\n",
      "41/41 [==============================] - 1s 36ms/step - loss: 0.0853 - accuracy: 1.0000 - val_loss: 1.5625 - val_accuracy: 0.4737\n",
      "Epoch 21/100\n",
      "41/41 [==============================] - 1s 36ms/step - loss: 0.0887 - accuracy: 0.9756 - val_loss: 1.6321 - val_accuracy: 0.5263\n",
      "Epoch 22/100\n",
      "41/41 [==============================] - 1s 36ms/step - loss: 0.0564 - accuracy: 0.9756 - val_loss: 1.5835 - val_accuracy: 0.4211\n",
      "Epoch 23/100\n",
      "41/41 [==============================] - 2s 42ms/step - loss: 0.1089 - accuracy: 0.9512 - val_loss: 1.3591 - val_accuracy: 0.4737\n",
      "Epoch 24/100\n",
      "41/41 [==============================] - 1s 35ms/step - loss: 0.0651 - accuracy: 1.0000 - val_loss: 2.1644 - val_accuracy: 0.5789\n",
      "Epoch 25/100\n",
      "41/41 [==============================] - 1s 36ms/step - loss: 0.2721 - accuracy: 0.9268 - val_loss: 3.7053 - val_accuracy: 0.4737\n",
      "Epoch 26/100\n",
      "41/41 [==============================] - 1s 36ms/step - loss: 0.3894 - accuracy: 0.9268 - val_loss: 2.0067 - val_accuracy: 0.5263\n",
      "Epoch 27/100\n",
      "41/41 [==============================] - 1s 36ms/step - loss: 0.0353 - accuracy: 1.0000 - val_loss: 2.0809 - val_accuracy: 0.5263\n",
      "Epoch 28/100\n",
      "41/41 [==============================] - 2s 37ms/step - loss: 0.0195 - accuracy: 1.0000 - val_loss: 2.3280 - val_accuracy: 0.5789\n",
      "Epoch 29/100\n",
      "41/41 [==============================] - 2s 37ms/step - loss: 0.0540 - accuracy: 0.9756 - val_loss: 2.1420 - val_accuracy: 0.5263\n",
      "Epoch 30/100\n",
      "41/41 [==============================] - 2s 36ms/step - loss: 0.0808 - accuracy: 0.9756 - val_loss: 1.8622 - val_accuracy: 0.5263\n",
      "Epoch 31/100\n",
      "41/41 [==============================] - 2s 37ms/step - loss: 0.0191 - accuracy: 1.0000 - val_loss: 2.1759 - val_accuracy: 0.5263\n",
      "Epoch 32/100\n",
      "41/41 [==============================] - 2s 39ms/step - loss: 0.0141 - accuracy: 1.0000 - val_loss: 2.2937 - val_accuracy: 0.4737\n",
      "Epoch 33/100\n",
      "41/41 [==============================] - 2s 37ms/step - loss: 0.0241 - accuracy: 1.0000 - val_loss: 2.1638 - val_accuracy: 0.5263\n",
      "Epoch 34/100\n",
      "41/41 [==============================] - 2s 36ms/step - loss: 0.0128 - accuracy: 1.0000 - val_loss: 2.4045 - val_accuracy: 0.5789\n",
      "Epoch 35/100\n",
      "41/41 [==============================] - 2s 36ms/step - loss: 0.0084 - accuracy: 1.0000 - val_loss: 2.4605 - val_accuracy: 0.5789\n",
      "Epoch 36/100\n",
      "41/41 [==============================] - 2s 41ms/step - loss: 0.0051 - accuracy: 1.0000 - val_loss: 2.5647 - val_accuracy: 0.5789\n",
      "Epoch 37/100\n",
      "41/41 [==============================] - 2s 48ms/step - loss: 0.0068 - accuracy: 1.0000 - val_loss: 2.5765 - val_accuracy: 0.4737\n",
      "Epoch 38/100\n",
      "41/41 [==============================] - 1s 36ms/step - loss: 0.0094 - accuracy: 1.0000 - val_loss: 2.4945 - val_accuracy: 0.5789\n",
      "Epoch 39/100\n",
      "41/41 [==============================] - 1s 36ms/step - loss: 0.0047 - accuracy: 1.0000 - val_loss: 2.6064 - val_accuracy: 0.5263\n",
      "Epoch 40/100\n",
      "41/41 [==============================] - 2s 37ms/step - loss: 0.0034 - accuracy: 1.0000 - val_loss: 2.7103 - val_accuracy: 0.5789\n",
      "Epoch 41/100\n",
      "41/41 [==============================] - 1s 36ms/step - loss: 0.0033 - accuracy: 1.0000 - val_loss: 2.6951 - val_accuracy: 0.4737\n",
      "Epoch 42/100\n",
      "41/41 [==============================] - 1s 35ms/step - loss: 0.0029 - accuracy: 1.0000 - val_loss: 2.8029 - val_accuracy: 0.5789\n",
      "Epoch 43/100\n",
      "41/41 [==============================] - 1s 35ms/step - loss: 0.0024 - accuracy: 1.0000 - val_loss: 2.8241 - val_accuracy: 0.5789\n",
      "Epoch 44/100\n",
      "41/41 [==============================] - 1s 36ms/step - loss: 0.0024 - accuracy: 1.0000 - val_loss: 2.8181 - val_accuracy: 0.4737\n",
      "Epoch 45/100\n",
      "41/41 [==============================] - 1s 35ms/step - loss: 0.0020 - accuracy: 1.0000 - val_loss: 2.9297 - val_accuracy: 0.5789\n",
      "Epoch 46/100\n",
      "41/41 [==============================] - 1s 36ms/step - loss: 0.0021 - accuracy: 1.0000 - val_loss: 2.9219 - val_accuracy: 0.5789\n",
      "Epoch 47/100\n",
      "41/41 [==============================] - 1s 35ms/step - loss: 0.0020 - accuracy: 1.0000 - val_loss: 2.9677 - val_accuracy: 0.5789\n",
      "Epoch 48/100\n",
      "41/41 [==============================] - 1s 35ms/step - loss: 0.0024 - accuracy: 1.0000 - val_loss: 2.9353 - val_accuracy: 0.4737\n",
      "Epoch 49/100\n",
      "41/41 [==============================] - 1s 35ms/step - loss: 0.0025 - accuracy: 1.0000 - val_loss: 3.0378 - val_accuracy: 0.5789\n",
      "Epoch 50/100\n",
      "41/41 [==============================] - 1s 35ms/step - loss: 0.0019 - accuracy: 1.0000 - val_loss: 3.0386 - val_accuracy: 0.5789\n",
      "Epoch 51/100\n",
      "41/41 [==============================] - 1s 35ms/step - loss: 0.0014 - accuracy: 1.0000 - val_loss: 3.0286 - val_accuracy: 0.5789\n",
      "Epoch 52/100\n",
      "41/41 [==============================] - 1s 35ms/step - loss: 0.0013 - accuracy: 1.0000 - val_loss: 3.0597 - val_accuracy: 0.5789\n",
      "Epoch 53/100\n",
      "41/41 [==============================] - 1s 36ms/step - loss: 0.0012 - accuracy: 1.0000 - val_loss: 3.0882 - val_accuracy: 0.5789\n",
      "Epoch 54/100\n",
      "41/41 [==============================] - 1s 35ms/step - loss: 0.0012 - accuracy: 1.0000 - val_loss: 3.1012 - val_accuracy: 0.5789\n",
      "Epoch 55/100\n",
      "41/41 [==============================] - 1s 35ms/step - loss: 0.0011 - accuracy: 1.0000 - val_loss: 3.1113 - val_accuracy: 0.5789\n",
      "Epoch 56/100\n",
      "41/41 [==============================] - 1s 35ms/step - loss: 9.4151e-04 - accuracy: 1.0000 - val_loss: 3.1635 - val_accuracy: 0.5789\n",
      "Epoch 57/100\n",
      "41/41 [==============================] - 1s 36ms/step - loss: 9.6179e-04 - accuracy: 1.0000 - val_loss: 3.1569 - val_accuracy: 0.5789\n",
      "Epoch 58/100\n"
     ]
    },
    {
     "name": "stdout",
     "output_type": "stream",
     "text": [
      "41/41 [==============================] - 1s 34ms/step - loss: 9.2441e-04 - accuracy: 1.0000 - val_loss: 3.1939 - val_accuracy: 0.5789\n",
      "Epoch 59/100\n",
      "41/41 [==============================] - 1s 35ms/step - loss: 8.8831e-04 - accuracy: 1.0000 - val_loss: 3.2169 - val_accuracy: 0.5789\n",
      "Epoch 60/100\n",
      "41/41 [==============================] - 1s 34ms/step - loss: 8.1860e-04 - accuracy: 1.0000 - val_loss: 3.2388 - val_accuracy: 0.5789\n",
      "Epoch 61/100\n",
      "41/41 [==============================] - 1s 34ms/step - loss: 8.2590e-04 - accuracy: 1.0000 - val_loss: 3.2690 - val_accuracy: 0.5789\n",
      "Epoch 62/100\n",
      "41/41 [==============================] - 1s 34ms/step - loss: 7.5180e-04 - accuracy: 1.0000 - val_loss: 3.2999 - val_accuracy: 0.5789\n",
      "Epoch 63/100\n",
      "41/41 [==============================] - 1s 34ms/step - loss: 6.8995e-04 - accuracy: 1.0000 - val_loss: 3.3044 - val_accuracy: 0.5789\n",
      "Epoch 64/100\n",
      "41/41 [==============================] - 1s 34ms/step - loss: 6.7033e-04 - accuracy: 1.0000 - val_loss: 3.3171 - val_accuracy: 0.5789\n",
      "Epoch 65/100\n",
      "41/41 [==============================] - 1s 34ms/step - loss: 6.4046e-04 - accuracy: 1.0000 - val_loss: 3.3642 - val_accuracy: 0.5789\n",
      "Epoch 66/100\n",
      "41/41 [==============================] - 1s 34ms/step - loss: 6.4481e-04 - accuracy: 1.0000 - val_loss: 3.3360 - val_accuracy: 0.5789\n",
      "Epoch 67/100\n",
      "41/41 [==============================] - 1s 34ms/step - loss: 5.6322e-04 - accuracy: 1.0000 - val_loss: 3.3848 - val_accuracy: 0.5789\n",
      "Epoch 68/100\n",
      "41/41 [==============================] - 1s 34ms/step - loss: 5.8269e-04 - accuracy: 1.0000 - val_loss: 3.3957 - val_accuracy: 0.5789\n",
      "Epoch 69/100\n",
      "41/41 [==============================] - 1s 34ms/step - loss: 6.7202e-04 - accuracy: 1.0000 - val_loss: 3.4216 - val_accuracy: 0.5789\n",
      "Epoch 70/100\n",
      "41/41 [==============================] - 1s 34ms/step - loss: 5.2396e-04 - accuracy: 1.0000 - val_loss: 3.3886 - val_accuracy: 0.5789\n",
      "Epoch 71/100\n",
      "41/41 [==============================] - 1s 34ms/step - loss: 4.7439e-04 - accuracy: 1.0000 - val_loss: 3.4052 - val_accuracy: 0.5789\n",
      "Epoch 72/100\n",
      "41/41 [==============================] - 1s 34ms/step - loss: 4.6009e-04 - accuracy: 1.0000 - val_loss: 3.4667 - val_accuracy: 0.5789\n",
      "Epoch 73/100\n",
      "41/41 [==============================] - 1s 34ms/step - loss: 4.4382e-04 - accuracy: 1.0000 - val_loss: 3.4406 - val_accuracy: 0.5789\n",
      "Epoch 74/100\n",
      "41/41 [==============================] - 1s 34ms/step - loss: 4.2138e-04 - accuracy: 1.0000 - val_loss: 3.4718 - val_accuracy: 0.5789\n",
      "Epoch 75/100\n",
      "41/41 [==============================] - 1s 34ms/step - loss: 4.1725e-04 - accuracy: 1.0000 - val_loss: 3.5161 - val_accuracy: 0.5789\n",
      "Epoch 76/100\n",
      "41/41 [==============================] - 1s 34ms/step - loss: 3.9155e-04 - accuracy: 1.0000 - val_loss: 3.4795 - val_accuracy: 0.5789\n",
      "Epoch 77/100\n",
      "41/41 [==============================] - 1s 35ms/step - loss: 4.0143e-04 - accuracy: 1.0000 - val_loss: 3.4888 - val_accuracy: 0.5789\n",
      "Epoch 78/100\n",
      "41/41 [==============================] - 1s 34ms/step - loss: 3.7650e-04 - accuracy: 1.0000 - val_loss: 3.5383 - val_accuracy: 0.5789\n",
      "Epoch 79/100\n",
      "41/41 [==============================] - 1s 34ms/step - loss: 3.6304e-04 - accuracy: 1.0000 - val_loss: 3.5583 - val_accuracy: 0.5789\n",
      "Epoch 80/100\n",
      "41/41 [==============================] - 1s 34ms/step - loss: 3.4016e-04 - accuracy: 1.0000 - val_loss: 3.5419 - val_accuracy: 0.5789\n",
      "Epoch 81/100\n",
      "41/41 [==============================] - 1s 34ms/step - loss: 3.7275e-04 - accuracy: 1.0000 - val_loss: 3.6124 - val_accuracy: 0.5789\n",
      "Epoch 82/100\n",
      "41/41 [==============================] - 1s 35ms/step - loss: 3.4897e-04 - accuracy: 1.0000 - val_loss: 3.6024 - val_accuracy: 0.5789\n",
      "Epoch 83/100\n",
      "41/41 [==============================] - 1s 34ms/step - loss: 3.2169e-04 - accuracy: 1.0000 - val_loss: 3.6220 - val_accuracy: 0.5789\n",
      "Epoch 84/100\n",
      "41/41 [==============================] - 1s 35ms/step - loss: 2.9919e-04 - accuracy: 1.0000 - val_loss: 3.6056 - val_accuracy: 0.5789\n",
      "Epoch 85/100\n",
      "41/41 [==============================] - 1s 35ms/step - loss: 3.0519e-04 - accuracy: 1.0000 - val_loss: 3.5919 - val_accuracy: 0.5789\n",
      "Epoch 86/100\n",
      "41/41 [==============================] - 1s 34ms/step - loss: 2.5112e-04 - accuracy: 1.0000 - val_loss: 3.6529 - val_accuracy: 0.5789\n",
      "Epoch 87/100\n",
      "41/41 [==============================] - 1s 34ms/step - loss: 4.0195e-04 - accuracy: 1.0000 - val_loss: 3.5795 - val_accuracy: 0.5789\n",
      "Epoch 88/100\n",
      "41/41 [==============================] - 1s 34ms/step - loss: 2.8704e-04 - accuracy: 1.0000 - val_loss: 3.7122 - val_accuracy: 0.5789\n",
      "Epoch 89/100\n",
      "41/41 [==============================] - 1s 35ms/step - loss: 3.8292e-04 - accuracy: 1.0000 - val_loss: 3.6380 - val_accuracy: 0.5789\n",
      "Epoch 90/100\n",
      "41/41 [==============================] - 1s 35ms/step - loss: 2.6170e-04 - accuracy: 1.0000 - val_loss: 3.6600 - val_accuracy: 0.5789\n",
      "Epoch 91/100\n",
      "41/41 [==============================] - 1s 36ms/step - loss: 2.5830e-04 - accuracy: 1.0000 - val_loss: 3.6322 - val_accuracy: 0.5789\n",
      "Epoch 92/100\n",
      "41/41 [==============================] - 1s 35ms/step - loss: 2.3756e-04 - accuracy: 1.0000 - val_loss: 3.6632 - val_accuracy: 0.5789\n",
      "Epoch 93/100\n",
      "41/41 [==============================] - 1s 35ms/step - loss: 2.2629e-04 - accuracy: 1.0000 - val_loss: 3.6568 - val_accuracy: 0.5789\n",
      "Epoch 94/100\n",
      "41/41 [==============================] - 1s 35ms/step - loss: 2.1561e-04 - accuracy: 1.0000 - val_loss: 3.6591 - val_accuracy: 0.5789\n",
      "Epoch 95/100\n",
      "41/41 [==============================] - 2s 36ms/step - loss: 2.0525e-04 - accuracy: 1.0000 - val_loss: 3.7260 - val_accuracy: 0.5789\n",
      "Epoch 96/100\n",
      "41/41 [==============================] - 1s 35ms/step - loss: 1.8878e-04 - accuracy: 1.0000 - val_loss: 3.6925 - val_accuracy: 0.5789\n",
      "Epoch 97/100\n",
      "41/41 [==============================] - 2s 40ms/step - loss: 2.0957e-04 - accuracy: 1.0000 - val_loss: 3.7393 - val_accuracy: 0.5789\n",
      "Epoch 98/100\n",
      "41/41 [==============================] - 1s 36ms/step - loss: 1.8802e-04 - accuracy: 1.0000 - val_loss: 3.7426 - val_accuracy: 0.5789\n",
      "Epoch 99/100\n",
      "41/41 [==============================] - 1s 35ms/step - loss: 1.7933e-04 - accuracy: 1.0000 - val_loss: 3.7394 - val_accuracy: 0.5789\n",
      "Epoch 100/100\n",
      "41/41 [==============================] - 1s 36ms/step - loss: 1.7215e-04 - accuracy: 1.0000 - val_loss: 3.7755 - val_accuracy: 0.5789\n"
     ]
    }
   ],
   "source": [
    "tf.random.set_seed(42)\n",
    "model=keras.models.Sequential([\n",
    "    keras.layers.Conv2D(10,3,activation='relu',input_shape=(224,224,3)),\n",
    "    keras.layers.MaxPool2D(pool_size=2),\n",
    "    keras.layers.Conv2D(10,3,activation='relu'),\n",
    "    keras.layers.MaxPool2D(pool_size=2),\n",
    "    keras.layers.Flatten(),\n",
    "    keras.layers.Dense(100,activation='relu'),\n",
    "    keras.layers.Dense(4,activation='softmax')\n",
    "])\n",
    "model.compile(optimizer='adam',metrics=['accuracy'],loss='categorical_crossentropy')\n",
    "history=model.fit(train_data,epochs=100,steps_per_epoch=len(train_data),validation_data=test_data,validation_steps=len(test_data))"
   ]
  },
  {
   "cell_type": "code",
   "execution_count": 71,
   "metadata": {},
   "outputs": [],
   "source": [
    "import pandas as pd \n",
    "import matplotlib.pyplot as plt "
   ]
  },
  {
   "cell_type": "code",
   "execution_count": 72,
   "metadata": {},
   "outputs": [],
   "source": [
    "df=pd.DataFrame(history.history)"
   ]
  },
  {
   "cell_type": "code",
   "execution_count": 73,
   "metadata": {},
   "outputs": [
    {
     "data": {
      "text/plain": [
       "<AxesSubplot:>"
      ]
     },
     "execution_count": 73,
     "metadata": {},
     "output_type": "execute_result"
    },
    {
     "data": {
      "image/png": "[encoded data removed]",
      "text/plain": [
       "<Figure size 720x360 with 1 Axes>"
      ]
     },
     "metadata": {
      "needs_background": "light"
     },
     "output_type": "display_data"
    }
   ],
   "source": [
    "df[['accuracy','val_accuracy']].plot(figsize=(10,5),marker='o')"
   ]
  },
  {
   "cell_type": "code",
   "execution_count": 74,
   "metadata": {},
   "outputs": [
    {
     "data": {
      "text/plain": [
       "<AxesSubplot:>"
      ]
     },
     "execution_count": 74,
     "metadata": {},
     "output_type": "execute_result"
    },
    {
     "data": {
      "image/png": "[encoded data removed]",
      "text/plain": [
       "<Figure size 720x360 with 1 Axes>"
      ]
     },
     "metadata": {
      "needs_background": "light"
     },
     "output_type": "display_data"
    }
   ],
   "source": [
    "df[['loss','val_loss']].plot(figsize=(10,5),marker='o')"
   ]
  },
  {
   "cell_type": "code",
   "execution_count": 75,
   "metadata": {},
   "outputs": [
    {
     "name": "stdout",
     "output_type": "stream",
     "text": [
      "Model: \"sequential_4\"\n",
      "_________________________________________________________________\n",
      " Layer (type)                Output Shape              Param #   \n",
      "=================================================================\n",
      " conv2d_12 (Conv2D)          (None, 222, 222, 10)      280       \n",
      "                                                                 \n",
      " max_pooling2d_12 (MaxPoolin  (None, 111, 111, 10)     0         \n",
      " g2D)                                                            \n",
      "                                                                 \n",
      " conv2d_13 (Conv2D)          (None, 109, 109, 10)      910       \n",
      "                                                                 \n",
      " max_pooling2d_13 (MaxPoolin  (None, 54, 54, 10)       0         \n",
      " g2D)                                                            \n",
      "                                                                 \n",
      " flatten_4 (Flatten)         (None, 29160)             0         \n",
      "                                                                 \n",
      " dense_4 (Dense)             (None, 100)               2916100   \n",
      "                                                                 \n",
      " dense_5 (Dense)             (None, 4)                 404       \n",
      "                                                                 \n",
      "=================================================================\n",
      "Total params: 2,917,694\n",
      "Trainable params: 2,917,694\n",
      "Non-trainable params: 0\n",
      "_________________________________________________________________\n"
     ]
    }
   ],
   "source": [
    "model.summary()"
   ]
  },
  {
   "cell_type": "code",
   "execution_count": 76,
   "metadata": {},
   "outputs": [],
   "source": [
    "pred=model.predict(test_data)"
   ]
  },
  {
   "cell_type": "code",
   "execution_count": 77,
   "metadata": {},
   "outputs": [],
   "source": [
    "import numpy as np "
   ]
  },
  {
   "cell_type": "code",
   "execution_count": 78,
   "metadata": {},
   "outputs": [],
   "source": [
    "y_pred=[]\n",
    "for element in pred:\n",
    "    y_pred.append(np.argmax(element))"
   ]
  },
  {
   "cell_type": "code",
   "execution_count": 79,
   "metadata": {},
   "outputs": [
    {
     "data": {
      "text/plain": [
       "[2, 0, 2, 2, 2, 2, 0, 3, 3, 1, 2, 2, 2, 2, 2, 2, 1, 3, 3]"
      ]
     },
     "execution_count": 79,
     "metadata": {},
     "output_type": "execute_result"
    }
   ],
   "source": [
    "y_pred"
   ]
  },
  {
   "cell_type": "code",
   "execution_count": 80,
   "metadata": {},
   "outputs": [
    {
     "data": {
      "text/plain": [
       "array([0, 0, 0, 0, 0, 0, 0, 1, 1, 1, 2, 2, 2, 2, 2, 2, 3, 3, 3])"
      ]
     },
     "execution_count": 80,
     "metadata": {},
     "output_type": "execute_result"
    }
   ],
   "source": [
    "y_test=test_data.labels\n",
    "y_test"
   ]
  },
  {
   "cell_type": "code",
   "execution_count": 81,
   "metadata": {},
   "outputs": [],
   "source": [
    "from sklearn.metrics import *"
   ]
  },
  {
   "cell_type": "code",
   "execution_count": 82,
   "metadata": {},
   "outputs": [
    {
     "data": {
      "text/plain": [
       "0.5789473684210527"
      ]
     },
     "execution_count": 82,
     "metadata": {},
     "output_type": "execute_result"
    }
   ],
   "source": [
    "accuracy_score(y_test,y_pred)"
   ]
  },
  {
   "cell_type": "code",
   "execution_count": 83,
   "metadata": {},
   "outputs": [
    {
     "name": "stdout",
     "output_type": "stream",
     "text": [
      "              precision    recall  f1-score   support\n",
      "\n",
      "           0       1.00      0.29      0.44         7\n",
      "           1       0.50      0.33      0.40         3\n",
      "           2       0.55      1.00      0.71         6\n",
      "           3       0.50      0.67      0.57         3\n",
      "\n",
      "    accuracy                           0.58        19\n",
      "   macro avg       0.64      0.57      0.53        19\n",
      "weighted avg       0.70      0.58      0.54        19\n",
      "\n"
     ]
    }
   ],
   "source": [
    "print(classification_report(y_test,y_pred))"
   ]
  },
  {
   "cell_type": "code",
   "execution_count": null,
   "metadata": {},
   "outputs": [],
   "source": []
  }
 ],
 "metadata": {
  "kernelspec": {
   "display_name": "Python 3",
   "language": "python",
   "name": "python3"
  },
  "language_info": {
   "codemirror_mode": {
    "name": "ipython",
    "version": 3
   },
   "file_extension": ".py",
   "mimetype": "text/x-python",
   "name": "python",
   "nbconvert_exporter": "python",
   "pygments_lexer": "ipython3",
   "version": "3.8.5"
  }
 },
 "nbformat": 4,
 "nbformat_minor": 4
}
